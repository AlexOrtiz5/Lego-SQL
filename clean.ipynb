{
 "cells": [
  {
   "cell_type": "markdown",
   "metadata": {},
   "source": [
    "# Import the Libraries that are going to be used:"
   ]
  },
  {
   "cell_type": "code",
   "execution_count": null,
   "metadata": {},
   "outputs": [],
   "source": [
    "import pandas as pd"
   ]
  },
  {
   "cell_type": "markdown",
   "metadata": {},
   "source": [
    "# Read the csv file"
   ]
  },
  {
   "cell_type": "markdown",
   "metadata": {},
   "source": [
    "## Before reading the csv file\n",
    "\n",
    "### Instructions:\n",
    "1. Download the Dataset from the page: https://www.kaggle.com/datasets/alessiasimone/lego-sets-and-price-1955-2023/.\n",
    "2. After downloading extract the file in the location you want to use.\n",
    "3. Then change the name of the file from Output.csv to which name you want to use.\n",
    "4. Now you can enjoy the code by changing the name of the file in the read_csv.\n",
    "\n",
    "### The second data:\n",
    "1. Can be downloaded from https://www.kaggle.com/datasets/mterzolo/lego-sets"
   ]
  },
  {
   "cell_type": "code",
   "execution_count": null,
   "metadata": {},
   "outputs": [],
   "source": [
    "# Add First dataframe\n",
    "Lego_df = pd.read_csv('lego_sets_data.csv', dtype={'column_9': int}, low_memory=False, sep=';', decimal=',')\n",
    "# Add Second dataframe\n",
    "lego_sets = pd.read_csv('lego_sets.csv')"
   ]
  },
  {
   "cell_type": "markdown",
   "metadata": {},
   "source": [
    "# Clean the Dataframe"
   ]
  },
  {
   "cell_type": "code",
   "execution_count": null,
   "metadata": {},
   "outputs": [],
   "source": [
    "# Import the python file\n",
    "from Clean_data import *\n",
    "\n",
    "# Clean the dataframe\n",
    "Clean_Lego_df = clean_columns_name(Lego_df)\n",
    "Clean_Lego_df = clean_lego_data(Clean_Lego_df)\n",
    "\n",
    "# Apply the function to create a new column 'collaboration'\n",
    "lego_sets['collaboration'] = lego_sets['theme_name'].apply(check_collaboration)\n",
    "lego_sets = clean_lego_set(lego_sets)"
   ]
  },
  {
   "cell_type": "markdown",
   "metadata": {},
   "source": [
    "# Put the clean data into a csv"
   ]
  },
  {
   "cell_type": "code",
   "execution_count": null,
   "metadata": {},
   "outputs": [],
   "source": [
    "Clean_Lego_df.to_csv('clean_lego.csv')\n",
    "lego_sets.to_csv('lego_set_clean.csv')"
   ]
  }
 ],
 "metadata": {
  "kernelspec": {
   "display_name": "base",
   "language": "python",
   "name": "python3"
  },
  "language_info": {
   "name": "python",
   "version": "3.11.5"
  }
 },
 "nbformat": 4,
 "nbformat_minor": 2
}
